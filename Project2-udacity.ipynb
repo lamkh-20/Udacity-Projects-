{
 "cells": [
  {
   "cell_type": "markdown",
   "metadata": {},
   "source": [
    "\n",
    "# Project : Investigate a Dataset of TMDb movie data \n",
    "(cleaned from original data on Kaggle)\n",
    "\n",
    "## Table of Contents\n",
    "<ul>\n",
    "<li><a href=\"#intro\">Introduction</a></li>\n",
    "<li><a href=\"#wrangling\">Data Wrangling</a></li>\n",
    "<li><a href=\"#eda\">Exploratory Data Analysis</a></li>\n",
    "<li><a href=\"#conclusions\">Conclusions</a></li>\n",
    "</ul>"
   ]
  },
  {
   "cell_type": "markdown",
   "metadata": {},
   "source": [
    "<a id='intro'></a>\n",
    "## Introduction\n",
    "\n",
    "### in this project i try to clean and analyze dataset of movies from any duplication and any missing to do the analysis in a efficient mannar, then i try to ask a some questions about this dataset and these questions are :\n",
    "\n",
    "#### Q1 : director that generate the highest revenue\n",
    "#### Q2 : 5 movies had the highest budgets \n",
    "#### Q3 : what is the 3 movies has the smallest popularity\n",
    "\n",
    "\n"
   ]
  },
  {
   "cell_type": "code",
   "execution_count": 1,
   "metadata": {},
   "outputs": [],
   "source": [
    "import numpy as np \n",
    "import pandas as pd \n",
    "import matplotlib.pyplot as plt\n",
    "import seaborn as sns\n",
    "%matplotlib inline \n"
   ]
  },
  {
   "cell_type": "markdown",
   "metadata": {},
   "source": [
    "<a id='wrangling'></a>\n",
    "## Data Wrangling\n",
    "\n",
    "here i load the dataset to work on it ,then i will check if the dataset clean or not ,and if not i will try to clean it from any unusable data and any duplication, below i will explain what i did in details   \n",
    "\n",
    "### General Properties"
   ]
  },
  {
   "cell_type": "code",
   "execution_count": 2,
   "metadata": {},
   "outputs": [],
   "source": [
    "df = pd.read_csv('tmdb-movies.csv')"
   ]
  },
  {
   "cell_type": "markdown",
   "metadata": {},
   "source": [
    "### Data Cleaning"
   ]
  },
  {
   "cell_type": "code",
   "execution_count": 3,
   "metadata": {},
   "outputs": [
    {
     "data": {
      "text/plain": [
       "(10866, 21)"
      ]
     },
     "execution_count": 3,
     "metadata": {},
     "output_type": "execute_result"
    }
   ],
   "source": [
    "df.shape\n"
   ]
  },
  {
   "cell_type": "code",
   "execution_count": 4,
   "metadata": {},
   "outputs": [
    {
     "name": "stdout",
     "output_type": "stream",
     "text": [
      "<class 'pandas.core.frame.DataFrame'>\n",
      "RangeIndex: 10866 entries, 0 to 10865\n",
      "Data columns (total 21 columns):\n",
      " #   Column                Non-Null Count  Dtype  \n",
      "---  ------                --------------  -----  \n",
      " 0   id                    10866 non-null  int64  \n",
      " 1   imdb_id               10856 non-null  object \n",
      " 2   popularity            10866 non-null  float64\n",
      " 3   budget                10866 non-null  int64  \n",
      " 4   revenue               10866 non-null  int64  \n",
      " 5   original_title        10866 non-null  object \n",
      " 6   cast                  10790 non-null  object \n",
      " 7   homepage              2936 non-null   object \n",
      " 8   director              10822 non-null  object \n",
      " 9   tagline               8042 non-null   object \n",
      " 10  keywords              9373 non-null   object \n",
      " 11  overview              10862 non-null  object \n",
      " 12  runtime               10866 non-null  int64  \n",
      " 13  genres                10843 non-null  object \n",
      " 14  production_companies  9836 non-null   object \n",
      " 15  release_date          10866 non-null  object \n",
      " 16  vote_count            10866 non-null  int64  \n",
      " 17  vote_average          10866 non-null  float64\n",
      " 18  release_year          10866 non-null  int64  \n",
      " 19  budget_adj            10866 non-null  float64\n",
      " 20  revenue_adj           10866 non-null  float64\n",
      "dtypes: float64(4), int64(6), object(11)\n",
      "memory usage: 1.3+ MB\n"
     ]
    }
   ],
   "source": [
    "df.info()"
   ]
  },
  {
   "cell_type": "code",
   "execution_count": 5,
   "metadata": {},
   "outputs": [
    {
     "data": {
      "text/html": [
       "<div>\n",
       "<style scoped>\n",
       "    .dataframe tbody tr th:only-of-type {\n",
       "        vertical-align: middle;\n",
       "    }\n",
       "\n",
       "    .dataframe tbody tr th {\n",
       "        vertical-align: top;\n",
       "    }\n",
       "\n",
       "    .dataframe thead th {\n",
       "        text-align: right;\n",
       "    }\n",
       "</style>\n",
       "<table border=\"1\" class=\"dataframe\">\n",
       "  <thead>\n",
       "    <tr style=\"text-align: right;\">\n",
       "      <th></th>\n",
       "      <th>id</th>\n",
       "      <th>popularity</th>\n",
       "      <th>budget</th>\n",
       "      <th>revenue</th>\n",
       "      <th>runtime</th>\n",
       "      <th>vote_count</th>\n",
       "      <th>vote_average</th>\n",
       "      <th>release_year</th>\n",
       "      <th>budget_adj</th>\n",
       "      <th>revenue_adj</th>\n",
       "    </tr>\n",
       "  </thead>\n",
       "  <tbody>\n",
       "    <tr>\n",
       "      <th>count</th>\n",
       "      <td>10866.000000</td>\n",
       "      <td>10866.000000</td>\n",
       "      <td>1.086600e+04</td>\n",
       "      <td>1.086600e+04</td>\n",
       "      <td>10866.000000</td>\n",
       "      <td>10866.000000</td>\n",
       "      <td>10866.000000</td>\n",
       "      <td>10866.000000</td>\n",
       "      <td>1.086600e+04</td>\n",
       "      <td>1.086600e+04</td>\n",
       "    </tr>\n",
       "    <tr>\n",
       "      <th>mean</th>\n",
       "      <td>66064.177434</td>\n",
       "      <td>0.646441</td>\n",
       "      <td>1.462570e+07</td>\n",
       "      <td>3.982332e+07</td>\n",
       "      <td>102.070863</td>\n",
       "      <td>217.389748</td>\n",
       "      <td>5.974922</td>\n",
       "      <td>2001.322658</td>\n",
       "      <td>1.755104e+07</td>\n",
       "      <td>5.136436e+07</td>\n",
       "    </tr>\n",
       "    <tr>\n",
       "      <th>std</th>\n",
       "      <td>92130.136561</td>\n",
       "      <td>1.000185</td>\n",
       "      <td>3.091321e+07</td>\n",
       "      <td>1.170035e+08</td>\n",
       "      <td>31.381405</td>\n",
       "      <td>575.619058</td>\n",
       "      <td>0.935142</td>\n",
       "      <td>12.812941</td>\n",
       "      <td>3.430616e+07</td>\n",
       "      <td>1.446325e+08</td>\n",
       "    </tr>\n",
       "    <tr>\n",
       "      <th>min</th>\n",
       "      <td>5.000000</td>\n",
       "      <td>0.000065</td>\n",
       "      <td>0.000000e+00</td>\n",
       "      <td>0.000000e+00</td>\n",
       "      <td>0.000000</td>\n",
       "      <td>10.000000</td>\n",
       "      <td>1.500000</td>\n",
       "      <td>1960.000000</td>\n",
       "      <td>0.000000e+00</td>\n",
       "      <td>0.000000e+00</td>\n",
       "    </tr>\n",
       "    <tr>\n",
       "      <th>25%</th>\n",
       "      <td>10596.250000</td>\n",
       "      <td>0.207583</td>\n",
       "      <td>0.000000e+00</td>\n",
       "      <td>0.000000e+00</td>\n",
       "      <td>90.000000</td>\n",
       "      <td>17.000000</td>\n",
       "      <td>5.400000</td>\n",
       "      <td>1995.000000</td>\n",
       "      <td>0.000000e+00</td>\n",
       "      <td>0.000000e+00</td>\n",
       "    </tr>\n",
       "    <tr>\n",
       "      <th>50%</th>\n",
       "      <td>20669.000000</td>\n",
       "      <td>0.383856</td>\n",
       "      <td>0.000000e+00</td>\n",
       "      <td>0.000000e+00</td>\n",
       "      <td>99.000000</td>\n",
       "      <td>38.000000</td>\n",
       "      <td>6.000000</td>\n",
       "      <td>2006.000000</td>\n",
       "      <td>0.000000e+00</td>\n",
       "      <td>0.000000e+00</td>\n",
       "    </tr>\n",
       "    <tr>\n",
       "      <th>75%</th>\n",
       "      <td>75610.000000</td>\n",
       "      <td>0.713817</td>\n",
       "      <td>1.500000e+07</td>\n",
       "      <td>2.400000e+07</td>\n",
       "      <td>111.000000</td>\n",
       "      <td>145.750000</td>\n",
       "      <td>6.600000</td>\n",
       "      <td>2011.000000</td>\n",
       "      <td>2.085325e+07</td>\n",
       "      <td>3.369710e+07</td>\n",
       "    </tr>\n",
       "    <tr>\n",
       "      <th>max</th>\n",
       "      <td>417859.000000</td>\n",
       "      <td>32.985763</td>\n",
       "      <td>4.250000e+08</td>\n",
       "      <td>2.781506e+09</td>\n",
       "      <td>900.000000</td>\n",
       "      <td>9767.000000</td>\n",
       "      <td>9.200000</td>\n",
       "      <td>2015.000000</td>\n",
       "      <td>4.250000e+08</td>\n",
       "      <td>2.827124e+09</td>\n",
       "    </tr>\n",
       "  </tbody>\n",
       "</table>\n",
       "</div>"
      ],
      "text/plain": [
       "                  id    popularity        budget       revenue       runtime  \\\n",
       "count   10866.000000  10866.000000  1.086600e+04  1.086600e+04  10866.000000   \n",
       "mean    66064.177434      0.646441  1.462570e+07  3.982332e+07    102.070863   \n",
       "std     92130.136561      1.000185  3.091321e+07  1.170035e+08     31.381405   \n",
       "min         5.000000      0.000065  0.000000e+00  0.000000e+00      0.000000   \n",
       "25%     10596.250000      0.207583  0.000000e+00  0.000000e+00     90.000000   \n",
       "50%     20669.000000      0.383856  0.000000e+00  0.000000e+00     99.000000   \n",
       "75%     75610.000000      0.713817  1.500000e+07  2.400000e+07    111.000000   \n",
       "max    417859.000000     32.985763  4.250000e+08  2.781506e+09    900.000000   \n",
       "\n",
       "         vote_count  vote_average  release_year    budget_adj   revenue_adj  \n",
       "count  10866.000000  10866.000000  10866.000000  1.086600e+04  1.086600e+04  \n",
       "mean     217.389748      5.974922   2001.322658  1.755104e+07  5.136436e+07  \n",
       "std      575.619058      0.935142     12.812941  3.430616e+07  1.446325e+08  \n",
       "min       10.000000      1.500000   1960.000000  0.000000e+00  0.000000e+00  \n",
       "25%       17.000000      5.400000   1995.000000  0.000000e+00  0.000000e+00  \n",
       "50%       38.000000      6.000000   2006.000000  0.000000e+00  0.000000e+00  \n",
       "75%      145.750000      6.600000   2011.000000  2.085325e+07  3.369710e+07  \n",
       "max     9767.000000      9.200000   2015.000000  4.250000e+08  2.827124e+09  "
      ]
     },
     "execution_count": 5,
     "metadata": {},
     "output_type": "execute_result"
    }
   ],
   "source": [
    "df.describe()"
   ]
  },
  {
   "cell_type": "markdown",
   "metadata": {},
   "source": [
    "### remove unnessesary columns \n",
    "here i drop some columns that are useless in the dataset and will not help me in my analysis and that's will make the dataset cleaner to work on "
   ]
  },
  {
   "cell_type": "code",
   "execution_count": 6,
   "metadata": {},
   "outputs": [],
   "source": [
    "df.drop(['keywords','homepage','overview','cast','tagline'], axis=1 , inplace=True)"
   ]
  },
  {
   "cell_type": "code",
   "execution_count": 7,
   "metadata": {
    "scrolled": true
   },
   "outputs": [
    {
     "data": {
      "text/html": [
       "<div>\n",
       "<style scoped>\n",
       "    .dataframe tbody tr th:only-of-type {\n",
       "        vertical-align: middle;\n",
       "    }\n",
       "\n",
       "    .dataframe tbody tr th {\n",
       "        vertical-align: top;\n",
       "    }\n",
       "\n",
       "    .dataframe thead th {\n",
       "        text-align: right;\n",
       "    }\n",
       "</style>\n",
       "<table border=\"1\" class=\"dataframe\">\n",
       "  <thead>\n",
       "    <tr style=\"text-align: right;\">\n",
       "      <th></th>\n",
       "      <th>id</th>\n",
       "      <th>imdb_id</th>\n",
       "      <th>popularity</th>\n",
       "      <th>budget</th>\n",
       "      <th>revenue</th>\n",
       "      <th>original_title</th>\n",
       "      <th>director</th>\n",
       "      <th>runtime</th>\n",
       "      <th>genres</th>\n",
       "      <th>production_companies</th>\n",
       "      <th>release_date</th>\n",
       "      <th>vote_count</th>\n",
       "      <th>vote_average</th>\n",
       "      <th>release_year</th>\n",
       "      <th>budget_adj</th>\n",
       "      <th>revenue_adj</th>\n",
       "    </tr>\n",
       "  </thead>\n",
       "  <tbody>\n",
       "    <tr>\n",
       "      <th>0</th>\n",
       "      <td>135397</td>\n",
       "      <td>tt0369610</td>\n",
       "      <td>32.985763</td>\n",
       "      <td>150000000</td>\n",
       "      <td>1513528810</td>\n",
       "      <td>Jurassic World</td>\n",
       "      <td>Colin Trevorrow</td>\n",
       "      <td>124</td>\n",
       "      <td>Action|Adventure|Science Fiction|Thriller</td>\n",
       "      <td>Universal Studios|Amblin Entertainment|Legenda...</td>\n",
       "      <td>6/9/15</td>\n",
       "      <td>5562</td>\n",
       "      <td>6.5</td>\n",
       "      <td>2015</td>\n",
       "      <td>1.379999e+08</td>\n",
       "      <td>1.392446e+09</td>\n",
       "    </tr>\n",
       "    <tr>\n",
       "      <th>1</th>\n",
       "      <td>76341</td>\n",
       "      <td>tt1392190</td>\n",
       "      <td>28.419936</td>\n",
       "      <td>150000000</td>\n",
       "      <td>378436354</td>\n",
       "      <td>Mad Max: Fury Road</td>\n",
       "      <td>George Miller</td>\n",
       "      <td>120</td>\n",
       "      <td>Action|Adventure|Science Fiction|Thriller</td>\n",
       "      <td>Village Roadshow Pictures|Kennedy Miller Produ...</td>\n",
       "      <td>5/13/15</td>\n",
       "      <td>6185</td>\n",
       "      <td>7.1</td>\n",
       "      <td>2015</td>\n",
       "      <td>1.379999e+08</td>\n",
       "      <td>3.481613e+08</td>\n",
       "    </tr>\n",
       "    <tr>\n",
       "      <th>2</th>\n",
       "      <td>262500</td>\n",
       "      <td>tt2908446</td>\n",
       "      <td>13.112507</td>\n",
       "      <td>110000000</td>\n",
       "      <td>295238201</td>\n",
       "      <td>Insurgent</td>\n",
       "      <td>Robert Schwentke</td>\n",
       "      <td>119</td>\n",
       "      <td>Adventure|Science Fiction|Thriller</td>\n",
       "      <td>Summit Entertainment|Mandeville Films|Red Wago...</td>\n",
       "      <td>3/18/15</td>\n",
       "      <td>2480</td>\n",
       "      <td>6.3</td>\n",
       "      <td>2015</td>\n",
       "      <td>1.012000e+08</td>\n",
       "      <td>2.716190e+08</td>\n",
       "    </tr>\n",
       "    <tr>\n",
       "      <th>3</th>\n",
       "      <td>140607</td>\n",
       "      <td>tt2488496</td>\n",
       "      <td>11.173104</td>\n",
       "      <td>200000000</td>\n",
       "      <td>2068178225</td>\n",
       "      <td>Star Wars: The Force Awakens</td>\n",
       "      <td>J.J. Abrams</td>\n",
       "      <td>136</td>\n",
       "      <td>Action|Adventure|Science Fiction|Fantasy</td>\n",
       "      <td>Lucasfilm|Truenorth Productions|Bad Robot</td>\n",
       "      <td>12/15/15</td>\n",
       "      <td>5292</td>\n",
       "      <td>7.5</td>\n",
       "      <td>2015</td>\n",
       "      <td>1.839999e+08</td>\n",
       "      <td>1.902723e+09</td>\n",
       "    </tr>\n",
       "    <tr>\n",
       "      <th>4</th>\n",
       "      <td>168259</td>\n",
       "      <td>tt2820852</td>\n",
       "      <td>9.335014</td>\n",
       "      <td>190000000</td>\n",
       "      <td>1506249360</td>\n",
       "      <td>Furious 7</td>\n",
       "      <td>James Wan</td>\n",
       "      <td>137</td>\n",
       "      <td>Action|Crime|Thriller</td>\n",
       "      <td>Universal Pictures|Original Film|Media Rights ...</td>\n",
       "      <td>4/1/15</td>\n",
       "      <td>2947</td>\n",
       "      <td>7.3</td>\n",
       "      <td>2015</td>\n",
       "      <td>1.747999e+08</td>\n",
       "      <td>1.385749e+09</td>\n",
       "    </tr>\n",
       "  </tbody>\n",
       "</table>\n",
       "</div>"
      ],
      "text/plain": [
       "       id    imdb_id  popularity     budget     revenue  \\\n",
       "0  135397  tt0369610   32.985763  150000000  1513528810   \n",
       "1   76341  tt1392190   28.419936  150000000   378436354   \n",
       "2  262500  tt2908446   13.112507  110000000   295238201   \n",
       "3  140607  tt2488496   11.173104  200000000  2068178225   \n",
       "4  168259  tt2820852    9.335014  190000000  1506249360   \n",
       "\n",
       "                 original_title          director  runtime  \\\n",
       "0                Jurassic World   Colin Trevorrow      124   \n",
       "1            Mad Max: Fury Road     George Miller      120   \n",
       "2                     Insurgent  Robert Schwentke      119   \n",
       "3  Star Wars: The Force Awakens       J.J. Abrams      136   \n",
       "4                     Furious 7         James Wan      137   \n",
       "\n",
       "                                      genres  \\\n",
       "0  Action|Adventure|Science Fiction|Thriller   \n",
       "1  Action|Adventure|Science Fiction|Thriller   \n",
       "2         Adventure|Science Fiction|Thriller   \n",
       "3   Action|Adventure|Science Fiction|Fantasy   \n",
       "4                      Action|Crime|Thriller   \n",
       "\n",
       "                                production_companies release_date  vote_count  \\\n",
       "0  Universal Studios|Amblin Entertainment|Legenda...       6/9/15        5562   \n",
       "1  Village Roadshow Pictures|Kennedy Miller Produ...      5/13/15        6185   \n",
       "2  Summit Entertainment|Mandeville Films|Red Wago...      3/18/15        2480   \n",
       "3          Lucasfilm|Truenorth Productions|Bad Robot     12/15/15        5292   \n",
       "4  Universal Pictures|Original Film|Media Rights ...       4/1/15        2947   \n",
       "\n",
       "   vote_average  release_year    budget_adj   revenue_adj  \n",
       "0           6.5          2015  1.379999e+08  1.392446e+09  \n",
       "1           7.1          2015  1.379999e+08  3.481613e+08  \n",
       "2           6.3          2015  1.012000e+08  2.716190e+08  \n",
       "3           7.5          2015  1.839999e+08  1.902723e+09  \n",
       "4           7.3          2015  1.747999e+08  1.385749e+09  "
      ]
     },
     "execution_count": 7,
     "metadata": {},
     "output_type": "execute_result"
    }
   ],
   "source": [
    "df.head()"
   ]
  },
  {
   "cell_type": "markdown",
   "metadata": {},
   "source": [
    "this is the result after dropping the useless columns"
   ]
  },
  {
   "cell_type": "markdown",
   "metadata": {},
   "source": [
    "### Check if there is a null values "
   ]
  },
  {
   "cell_type": "code",
   "execution_count": 8,
   "metadata": {},
   "outputs": [
    {
     "name": "stdout",
     "output_type": "stream",
     "text": [
      "<class 'pandas.core.frame.DataFrame'>\n",
      "RangeIndex: 10866 entries, 0 to 10865\n",
      "Data columns (total 16 columns):\n",
      " #   Column                Non-Null Count  Dtype  \n",
      "---  ------                --------------  -----  \n",
      " 0   id                    10866 non-null  int64  \n",
      " 1   imdb_id               10856 non-null  object \n",
      " 2   popularity            10866 non-null  float64\n",
      " 3   budget                10866 non-null  int64  \n",
      " 4   revenue               10866 non-null  int64  \n",
      " 5   original_title        10866 non-null  object \n",
      " 6   director              10822 non-null  object \n",
      " 7   runtime               10866 non-null  int64  \n",
      " 8   genres                10843 non-null  object \n",
      " 9   production_companies  9836 non-null   object \n",
      " 10  release_date          10866 non-null  object \n",
      " 11  vote_count            10866 non-null  int64  \n",
      " 12  vote_average          10866 non-null  float64\n",
      " 13  release_year          10866 non-null  int64  \n",
      " 14  budget_adj            10866 non-null  float64\n",
      " 15  revenue_adj           10866 non-null  float64\n",
      "dtypes: float64(4), int64(6), object(6)\n",
      "memory usage: 1.1+ MB\n"
     ]
    }
   ],
   "source": [
    "df.fillna(df.mean(),inplace=True)\n",
    "df.info()"
   ]
  },
  {
   "cell_type": "markdown",
   "metadata": {},
   "source": [
    "as we can see in this result there is some columns that have a null values since their entries not equals 10866, so we have to drop these records that have a null values"
   ]
  },
  {
   "cell_type": "markdown",
   "metadata": {},
   "source": [
    "### To drop the null values "
   ]
  },
  {
   "cell_type": "code",
   "execution_count": 9,
   "metadata": {
    "scrolled": false
   },
   "outputs": [
    {
     "name": "stdout",
     "output_type": "stream",
     "text": [
      "<class 'pandas.core.frame.DataFrame'>\n",
      "Int64Index: 9805 entries, 0 to 10865\n",
      "Data columns (total 16 columns):\n",
      " #   Column                Non-Null Count  Dtype  \n",
      "---  ------                --------------  -----  \n",
      " 0   id                    9805 non-null   int64  \n",
      " 1   imdb_id               9805 non-null   object \n",
      " 2   popularity            9805 non-null   float64\n",
      " 3   budget                9805 non-null   int64  \n",
      " 4   revenue               9805 non-null   int64  \n",
      " 5   original_title        9805 non-null   object \n",
      " 6   director              9805 non-null   object \n",
      " 7   runtime               9805 non-null   int64  \n",
      " 8   genres                9805 non-null   object \n",
      " 9   production_companies  9805 non-null   object \n",
      " 10  release_date          9805 non-null   object \n",
      " 11  vote_count            9805 non-null   int64  \n",
      " 12  vote_average          9805 non-null   float64\n",
      " 13  release_year          9805 non-null   int64  \n",
      " 14  budget_adj            9805 non-null   float64\n",
      " 15  revenue_adj           9805 non-null   float64\n",
      "dtypes: float64(4), int64(6), object(6)\n",
      "memory usage: 1.0+ MB\n"
     ]
    }
   ],
   "source": [
    "df.dropna(inplace=True)\n",
    "df.info()"
   ]
  },
  {
   "cell_type": "markdown",
   "metadata": {},
   "source": [
    "as we can see in the result of this code now there is no record have a null values all of them have the same number of entries = 9805 "
   ]
  },
  {
   "cell_type": "markdown",
   "metadata": {},
   "source": [
    "### check and remove any duplication\n"
   ]
  },
  {
   "cell_type": "code",
   "execution_count": 10,
   "metadata": {},
   "outputs": [
    {
     "data": {
      "text/plain": [
       "1"
      ]
     },
     "execution_count": 10,
     "metadata": {},
     "output_type": "execute_result"
    }
   ],
   "source": [
    "#to avoid the repeating when we try to check and remove duplications we need to do a method\n",
    "def Duplicatee():\n",
    "    return sum(df.duplicated())\n",
    "Duplicatee()"
   ]
  },
  {
   "cell_type": "code",
   "execution_count": 11,
   "metadata": {
    "scrolled": false
   },
   "outputs": [
    {
     "data": {
      "text/html": [
       "<div>\n",
       "<style scoped>\n",
       "    .dataframe tbody tr th:only-of-type {\n",
       "        vertical-align: middle;\n",
       "    }\n",
       "\n",
       "    .dataframe tbody tr th {\n",
       "        vertical-align: top;\n",
       "    }\n",
       "\n",
       "    .dataframe thead th {\n",
       "        text-align: right;\n",
       "    }\n",
       "</style>\n",
       "<table border=\"1\" class=\"dataframe\">\n",
       "  <thead>\n",
       "    <tr style=\"text-align: right;\">\n",
       "      <th></th>\n",
       "      <th>id</th>\n",
       "      <th>imdb_id</th>\n",
       "      <th>popularity</th>\n",
       "      <th>budget</th>\n",
       "      <th>revenue</th>\n",
       "      <th>original_title</th>\n",
       "      <th>director</th>\n",
       "      <th>runtime</th>\n",
       "      <th>genres</th>\n",
       "      <th>production_companies</th>\n",
       "      <th>release_date</th>\n",
       "      <th>vote_count</th>\n",
       "      <th>vote_average</th>\n",
       "      <th>release_year</th>\n",
       "      <th>budget_adj</th>\n",
       "      <th>revenue_adj</th>\n",
       "    </tr>\n",
       "  </thead>\n",
       "  <tbody>\n",
       "    <tr>\n",
       "      <th>8088</th>\n",
       "      <td>5</td>\n",
       "      <td>tt0113101</td>\n",
       "      <td>1.234890</td>\n",
       "      <td>4000000</td>\n",
       "      <td>4300000</td>\n",
       "      <td>Four Rooms</td>\n",
       "      <td>Allison Anders|Alexandre Rockwell|Robert Rodri...</td>\n",
       "      <td>98</td>\n",
       "      <td>Comedy</td>\n",
       "      <td>Miramax Films|A Band Apart</td>\n",
       "      <td>12/25/95</td>\n",
       "      <td>293</td>\n",
       "      <td>6.4</td>\n",
       "      <td>1995</td>\n",
       "      <td>5.723867e+06</td>\n",
       "      <td>6.153158e+06</td>\n",
       "    </tr>\n",
       "    <tr>\n",
       "      <th>10249</th>\n",
       "      <td>6</td>\n",
       "      <td>tt0107286</td>\n",
       "      <td>0.815631</td>\n",
       "      <td>0</td>\n",
       "      <td>12136938</td>\n",
       "      <td>Judgment Night</td>\n",
       "      <td>Stephen Hopkins</td>\n",
       "      <td>110</td>\n",
       "      <td>Action|Thriller|Crime</td>\n",
       "      <td>Largo Entertainment|JVC Entertainment Networks</td>\n",
       "      <td>10/15/93</td>\n",
       "      <td>36</td>\n",
       "      <td>6.4</td>\n",
       "      <td>1993</td>\n",
       "      <td>0.000000e+00</td>\n",
       "      <td>1.832034e+07</td>\n",
       "    </tr>\n",
       "    <tr>\n",
       "      <th>1329</th>\n",
       "      <td>11</td>\n",
       "      <td>tt0076759</td>\n",
       "      <td>12.037933</td>\n",
       "      <td>11000000</td>\n",
       "      <td>775398007</td>\n",
       "      <td>Star Wars</td>\n",
       "      <td>George Lucas</td>\n",
       "      <td>121</td>\n",
       "      <td>Adventure|Action|Science Fiction</td>\n",
       "      <td>Lucasfilm|Twentieth Century Fox Film Corporation</td>\n",
       "      <td>3/20/77</td>\n",
       "      <td>4428</td>\n",
       "      <td>7.9</td>\n",
       "      <td>1977</td>\n",
       "      <td>3.957559e+07</td>\n",
       "      <td>2.789712e+09</td>\n",
       "    </tr>\n",
       "    <tr>\n",
       "      <th>4955</th>\n",
       "      <td>12</td>\n",
       "      <td>tt0266543</td>\n",
       "      <td>3.440519</td>\n",
       "      <td>94000000</td>\n",
       "      <td>864625978</td>\n",
       "      <td>Finding Nemo</td>\n",
       "      <td>Andrew Stanton|Lee Unkrich</td>\n",
       "      <td>100</td>\n",
       "      <td>Animation|Family</td>\n",
       "      <td>Walt Disney Pictures|Pixar Animation Studios|D...</td>\n",
       "      <td>5/30/03</td>\n",
       "      <td>3692</td>\n",
       "      <td>7.4</td>\n",
       "      <td>2003</td>\n",
       "      <td>1.114231e+08</td>\n",
       "      <td>1.024887e+09</td>\n",
       "    </tr>\n",
       "    <tr>\n",
       "      <th>4179</th>\n",
       "      <td>13</td>\n",
       "      <td>tt0109830</td>\n",
       "      <td>6.715966</td>\n",
       "      <td>55000000</td>\n",
       "      <td>677945399</td>\n",
       "      <td>Forrest Gump</td>\n",
       "      <td>Robert Zemeckis</td>\n",
       "      <td>142</td>\n",
       "      <td>Comedy|Drama|Romance</td>\n",
       "      <td>Paramount Pictures</td>\n",
       "      <td>7/6/94</td>\n",
       "      <td>4856</td>\n",
       "      <td>8.1</td>\n",
       "      <td>1994</td>\n",
       "      <td>8.091114e+07</td>\n",
       "      <td>9.973333e+08</td>\n",
       "    </tr>\n",
       "    <tr>\n",
       "      <th>...</th>\n",
       "      <td>...</td>\n",
       "      <td>...</td>\n",
       "      <td>...</td>\n",
       "      <td>...</td>\n",
       "      <td>...</td>\n",
       "      <td>...</td>\n",
       "      <td>...</td>\n",
       "      <td>...</td>\n",
       "      <td>...</td>\n",
       "      <td>...</td>\n",
       "      <td>...</td>\n",
       "      <td>...</td>\n",
       "      <td>...</td>\n",
       "      <td>...</td>\n",
       "      <td>...</td>\n",
       "      <td>...</td>\n",
       "    </tr>\n",
       "    <tr>\n",
       "      <th>515</th>\n",
       "      <td>395560</td>\n",
       "      <td>tt3108244</td>\n",
       "      <td>0.142759</td>\n",
       "      <td>1300000</td>\n",
       "      <td>0</td>\n",
       "      <td>Capsule</td>\n",
       "      <td>Andrew Martin</td>\n",
       "      <td>91</td>\n",
       "      <td>Drama|History|Thriller|Science Fiction</td>\n",
       "      <td>Ecaveo Capital Partners|Hermes Space Industries</td>\n",
       "      <td>12/23/15</td>\n",
       "      <td>11</td>\n",
       "      <td>5.3</td>\n",
       "      <td>2015</td>\n",
       "      <td>1.195999e+06</td>\n",
       "      <td>0.000000e+00</td>\n",
       "    </tr>\n",
       "    <tr>\n",
       "      <th>352</th>\n",
       "      <td>395883</td>\n",
       "      <td>tt4073890</td>\n",
       "      <td>0.333656</td>\n",
       "      <td>0</td>\n",
       "      <td>0</td>\n",
       "      <td>Andron</td>\n",
       "      <td>Francesco Cinquemani</td>\n",
       "      <td>100</td>\n",
       "      <td>Action|Science Fiction</td>\n",
       "      <td>Ambi Pictures</td>\n",
       "      <td>11/8/15</td>\n",
       "      <td>24</td>\n",
       "      <td>4.7</td>\n",
       "      <td>2015</td>\n",
       "      <td>0.000000e+00</td>\n",
       "      <td>0.000000e+00</td>\n",
       "    </tr>\n",
       "    <tr>\n",
       "      <th>1217</th>\n",
       "      <td>409696</td>\n",
       "      <td>tt3718778</td>\n",
       "      <td>0.107621</td>\n",
       "      <td>0</td>\n",
       "      <td>0</td>\n",
       "      <td>Over the Garden Wall</td>\n",
       "      <td>Nate Cash</td>\n",
       "      <td>110</td>\n",
       "      <td>Adventure|Animation|Family|Fantasy</td>\n",
       "      <td>Cartoon Network Studios</td>\n",
       "      <td>11/3/14</td>\n",
       "      <td>12</td>\n",
       "      <td>7.8</td>\n",
       "      <td>2014</td>\n",
       "      <td>0.000000e+00</td>\n",
       "      <td>0.000000e+00</td>\n",
       "    </tr>\n",
       "    <tr>\n",
       "      <th>3826</th>\n",
       "      <td>414419</td>\n",
       "      <td>tt6019206</td>\n",
       "      <td>0.146477</td>\n",
       "      <td>30000000</td>\n",
       "      <td>0</td>\n",
       "      <td>Kill Bill: The Whole Bloody Affair</td>\n",
       "      <td>Quentin Tarantino</td>\n",
       "      <td>247</td>\n",
       "      <td>Crime|Action</td>\n",
       "      <td>Miramax Films|A Band Apart|Super Cool ManChu</td>\n",
       "      <td>3/28/11</td>\n",
       "      <td>28</td>\n",
       "      <td>8.1</td>\n",
       "      <td>2011</td>\n",
       "      <td>2.908194e+07</td>\n",
       "      <td>0.000000e+00</td>\n",
       "    </tr>\n",
       "    <tr>\n",
       "      <th>3460</th>\n",
       "      <td>417859</td>\n",
       "      <td>tt0448694</td>\n",
       "      <td>1.071695</td>\n",
       "      <td>130000000</td>\n",
       "      <td>554987477</td>\n",
       "      <td>Puss in Boots</td>\n",
       "      <td>Chris Miller</td>\n",
       "      <td>90</td>\n",
       "      <td>Action|Adventure|Animation|Family|Fantasy</td>\n",
       "      <td>DreamWorks</td>\n",
       "      <td>10/28/11</td>\n",
       "      <td>48</td>\n",
       "      <td>6.9</td>\n",
       "      <td>2011</td>\n",
       "      <td>1.260217e+08</td>\n",
       "      <td>5.380038e+08</td>\n",
       "    </tr>\n",
       "  </tbody>\n",
       "</table>\n",
       "<p>9803 rows × 16 columns</p>\n",
       "</div>"
      ],
      "text/plain": [
       "           id    imdb_id  popularity     budget    revenue  \\\n",
       "8088        5  tt0113101    1.234890    4000000    4300000   \n",
       "10249       6  tt0107286    0.815631          0   12136938   \n",
       "1329       11  tt0076759   12.037933   11000000  775398007   \n",
       "4955       12  tt0266543    3.440519   94000000  864625978   \n",
       "4179       13  tt0109830    6.715966   55000000  677945399   \n",
       "...       ...        ...         ...        ...        ...   \n",
       "515    395560  tt3108244    0.142759    1300000          0   \n",
       "352    395883  tt4073890    0.333656          0          0   \n",
       "1217   409696  tt3718778    0.107621          0          0   \n",
       "3826   414419  tt6019206    0.146477   30000000          0   \n",
       "3460   417859  tt0448694    1.071695  130000000  554987477   \n",
       "\n",
       "                           original_title  \\\n",
       "8088                           Four Rooms   \n",
       "10249                      Judgment Night   \n",
       "1329                            Star Wars   \n",
       "4955                         Finding Nemo   \n",
       "4179                         Forrest Gump   \n",
       "...                                   ...   \n",
       "515                               Capsule   \n",
       "352                                Andron   \n",
       "1217                 Over the Garden Wall   \n",
       "3826   Kill Bill: The Whole Bloody Affair   \n",
       "3460                        Puss in Boots   \n",
       "\n",
       "                                                director  runtime  \\\n",
       "8088   Allison Anders|Alexandre Rockwell|Robert Rodri...       98   \n",
       "10249                                    Stephen Hopkins      110   \n",
       "1329                                        George Lucas      121   \n",
       "4955                          Andrew Stanton|Lee Unkrich      100   \n",
       "4179                                     Robert Zemeckis      142   \n",
       "...                                                  ...      ...   \n",
       "515                                        Andrew Martin       91   \n",
       "352                                 Francesco Cinquemani      100   \n",
       "1217                                           Nate Cash      110   \n",
       "3826                                   Quentin Tarantino      247   \n",
       "3460                                        Chris Miller       90   \n",
       "\n",
       "                                          genres  \\\n",
       "8088                                      Comedy   \n",
       "10249                      Action|Thriller|Crime   \n",
       "1329            Adventure|Action|Science Fiction   \n",
       "4955                            Animation|Family   \n",
       "4179                        Comedy|Drama|Romance   \n",
       "...                                          ...   \n",
       "515       Drama|History|Thriller|Science Fiction   \n",
       "352                       Action|Science Fiction   \n",
       "1217          Adventure|Animation|Family|Fantasy   \n",
       "3826                                Crime|Action   \n",
       "3460   Action|Adventure|Animation|Family|Fantasy   \n",
       "\n",
       "                                    production_companies release_date  \\\n",
       "8088                          Miramax Films|A Band Apart     12/25/95   \n",
       "10249     Largo Entertainment|JVC Entertainment Networks     10/15/93   \n",
       "1329    Lucasfilm|Twentieth Century Fox Film Corporation      3/20/77   \n",
       "4955   Walt Disney Pictures|Pixar Animation Studios|D...      5/30/03   \n",
       "4179                                  Paramount Pictures       7/6/94   \n",
       "...                                                  ...          ...   \n",
       "515      Ecaveo Capital Partners|Hermes Space Industries     12/23/15   \n",
       "352                                        Ambi Pictures      11/8/15   \n",
       "1217                             Cartoon Network Studios      11/3/14   \n",
       "3826        Miramax Films|A Band Apart|Super Cool ManChu      3/28/11   \n",
       "3460                                          DreamWorks     10/28/11   \n",
       "\n",
       "       vote_count  vote_average  release_year    budget_adj   revenue_adj  \n",
       "8088          293           6.4          1995  5.723867e+06  6.153158e+06  \n",
       "10249          36           6.4          1993  0.000000e+00  1.832034e+07  \n",
       "1329         4428           7.9          1977  3.957559e+07  2.789712e+09  \n",
       "4955         3692           7.4          2003  1.114231e+08  1.024887e+09  \n",
       "4179         4856           8.1          1994  8.091114e+07  9.973333e+08  \n",
       "...           ...           ...           ...           ...           ...  \n",
       "515            11           5.3          2015  1.195999e+06  0.000000e+00  \n",
       "352            24           4.7          2015  0.000000e+00  0.000000e+00  \n",
       "1217           12           7.8          2014  0.000000e+00  0.000000e+00  \n",
       "3826           28           8.1          2011  2.908194e+07  0.000000e+00  \n",
       "3460           48           6.9          2011  1.260217e+08  5.380038e+08  \n",
       "\n",
       "[9803 rows x 16 columns]"
      ]
     },
     "execution_count": 11,
     "metadata": {},
     "output_type": "execute_result"
    }
   ],
   "source": [
    "df.sort_values('id', inplace = True)  \n",
    "df.drop_duplicates(subset = 'id', keep = False, inplace = True)\n",
    "df"
   ]
  },
  {
   "cell_type": "code",
   "execution_count": 12,
   "metadata": {},
   "outputs": [
    {
     "data": {
      "text/plain": [
       "0"
      ]
     },
     "execution_count": 12,
     "metadata": {},
     "output_type": "execute_result"
    }
   ],
   "source": [
    "#just to make sure that there is no more duplication\n",
    "Duplicatee()"
   ]
  },
  {
   "cell_type": "markdown",
   "metadata": {},
   "source": [
    "the result now is 0 so there is no duplication "
   ]
  },
  {
   "cell_type": "markdown",
   "metadata": {},
   "source": [
    "### To remove the zero values"
   ]
  },
  {
   "cell_type": "code",
   "execution_count": 13,
   "metadata": {},
   "outputs": [
    {
     "data": {
      "text/plain": [
       "(5052, 4775)"
      ]
     },
     "execution_count": 13,
     "metadata": {},
     "output_type": "execute_result"
    }
   ],
   "source": [
    "#check if we have a zero or less than 1 values \n",
    "len(df.query('revenue<1')) , len (df.query('budget<1'))"
   ]
  },
  {
   "cell_type": "markdown",
   "metadata": {},
   "source": [
    "the result is not equals (0,0) mso that means there is a zero values that may effect my analysis"
   ]
  },
  {
   "cell_type": "markdown",
   "metadata": {},
   "source": [
    "### To remove the zero values"
   ]
  },
  {
   "cell_type": "code",
   "execution_count": 14,
   "metadata": {},
   "outputs": [
    {
     "name": "stdout",
     "output_type": "stream",
     "text": [
      "<class 'pandas.core.frame.DataFrame'>\n",
      "Int64Index: 4751 entries, 8088 to 3460\n",
      "Data columns (total 16 columns):\n",
      " #   Column                Non-Null Count  Dtype  \n",
      "---  ------                --------------  -----  \n",
      " 0   id                    4751 non-null   int64  \n",
      " 1   imdb_id               4751 non-null   object \n",
      " 2   popularity            4751 non-null   float64\n",
      " 3   budget                4751 non-null   int64  \n",
      " 4   revenue               4751 non-null   int64  \n",
      " 5   original_title        4751 non-null   object \n",
      " 6   director              4751 non-null   object \n",
      " 7   runtime               4751 non-null   int64  \n",
      " 8   genres                4751 non-null   object \n",
      " 9   production_companies  4751 non-null   object \n",
      " 10  release_date          4751 non-null   object \n",
      " 11  vote_count            4751 non-null   int64  \n",
      " 12  vote_average          4751 non-null   float64\n",
      " 13  release_year          4751 non-null   int64  \n",
      " 14  budget_adj            4751 non-null   float64\n",
      " 15  revenue_adj           4751 non-null   float64\n",
      "dtypes: float64(4), int64(6), object(6)\n",
      "memory usage: 519.6+ KB\n"
     ]
    }
   ],
   "source": [
    "zeroRevenue=df[df['revenue']<1] #removes any value less than 1\n",
    "df.drop(zeroRevenue.index,axis=0, inplace=True)\n",
    "df.info()"
   ]
  },
  {
   "cell_type": "code",
   "execution_count": 15,
   "metadata": {},
   "outputs": [
    {
     "name": "stdout",
     "output_type": "stream",
     "text": [
      "<class 'pandas.core.frame.DataFrame'>\n",
      "Int64Index: 3806 entries, 8088 to 3460\n",
      "Data columns (total 16 columns):\n",
      " #   Column                Non-Null Count  Dtype  \n",
      "---  ------                --------------  -----  \n",
      " 0   id                    3806 non-null   int64  \n",
      " 1   imdb_id               3806 non-null   object \n",
      " 2   popularity            3806 non-null   float64\n",
      " 3   budget                3806 non-null   int64  \n",
      " 4   revenue               3806 non-null   int64  \n",
      " 5   original_title        3806 non-null   object \n",
      " 6   director              3806 non-null   object \n",
      " 7   runtime               3806 non-null   int64  \n",
      " 8   genres                3806 non-null   object \n",
      " 9   production_companies  3806 non-null   object \n",
      " 10  release_date          3806 non-null   object \n",
      " 11  vote_count            3806 non-null   int64  \n",
      " 12  vote_average          3806 non-null   float64\n",
      " 13  release_year          3806 non-null   int64  \n",
      " 14  budget_adj            3806 non-null   float64\n",
      " 15  revenue_adj           3806 non-null   float64\n",
      "dtypes: float64(4), int64(6), object(6)\n",
      "memory usage: 416.3+ KB\n"
     ]
    }
   ],
   "source": [
    "zeroRevenue=df[df['budget']<1] #removes any value less than 1\n",
    "df.drop(zeroRevenue.index,axis=0, inplace=True)\n",
    "df.info()"
   ]
  },
  {
   "cell_type": "code",
   "execution_count": 16,
   "metadata": {
    "scrolled": true
   },
   "outputs": [
    {
     "data": {
      "text/plain": [
       "(0, 0)"
      ]
     },
     "execution_count": 16,
     "metadata": {},
     "output_type": "execute_result"
    }
   ],
   "source": [
    "len(df.query('revenue<1')) , len (df.query('budget<1'))"
   ]
  },
  {
   "cell_type": "markdown",
   "metadata": {},
   "source": [
    "the result means that now there is no zero values now "
   ]
  },
  {
   "cell_type": "markdown",
   "metadata": {},
   "source": [
    "<a id='eda'></a>\n",
    "## Exploratory Data Analysis\n",
    "\n",
    "### Q1 : director that generate the highest revenue"
   ]
  },
  {
   "cell_type": "code",
   "execution_count": 17,
   "metadata": {
    "scrolled": true
   },
   "outputs": [
    {
     "name": "stdout",
     "output_type": "stream",
     "text": [
      "1386    James Cameron\n",
      "Name: director, dtype: object\n"
     ]
    }
   ],
   "source": [
    "df2 = df.nlargest(1,'revenue')\n",
    "print(df2['director'])"
   ]
  },
  {
   "cell_type": "markdown",
   "metadata": {},
   "source": [
    "James Cameron is the director that generate the highest revenue in the dataset "
   ]
  },
  {
   "cell_type": "markdown",
   "metadata": {},
   "source": [
    "### Q2 : 5 movies had the highest budgets "
   ]
  },
  {
   "cell_type": "code",
   "execution_count": 18,
   "metadata": {
    "scrolled": false
   },
   "outputs": [
    {
     "name": "stdout",
     "output_type": "stream",
     "text": [
      "         budget     id                               original_title\n",
      "2244  425000000  46528                            The Warrior's Way\n",
      "3375  380000000   1865  Pirates of the Caribbean: On Stranger Tides\n",
      "7387  300000000    285     Pirates of the Caribbean: At World's End\n",
      "14    280000000  99861                      Avengers: Age of Ultron\n",
      "6570  270000000   1452                             Superman Returns\n"
     ]
    }
   ],
   "source": [
    "df['budget'] = df['budget'].astype('int')\n",
    "print(df.sort_values('budget', ascending=False).head(5)[['budget', 'id','original_title']])"
   ]
  },
  {
   "cell_type": "markdown",
   "metadata": {},
   "source": [
    "the 5 Movies that have the highest budget are : The Warrior's Way, Pirates of the Caribbean: On Stranger Tides ,Pirates of the Caribbean: At World's End, Avengers: Age of Ultron, Superman Returns"
   ]
  },
  {
   "cell_type": "markdown",
   "metadata": {},
   "source": [
    "### Q3 : what is the 3 movies has the smallest popularity"
   ]
  },
  {
   "cell_type": "code",
   "execution_count": 19,
   "metadata": {
    "scrolled": false
   },
   "outputs": [
    {
     "data": {
      "text/plain": [
       "Text(0, 0.5, 'popularity')"
      ]
     },
     "execution_count": 19,
     "metadata": {},
     "output_type": "execute_result"
    },
    {
     "data": {
      "image/png": "[encoded data removed]",
      "text/plain": [
       "<Figure size 432x288 with 1 Axes>"
      ]
     },
     "metadata": {
      "needs_background": "light"
     },
     "output_type": "display_data"
    }
   ],
   "source": [
    "d=df.nsmallest(3,'popularity') \n",
    "d['genres'].hist(figsize=(6,4))\n",
    "plt.xlabel('genres',fontsize=12)\n",
    "plt.ylabel('popularity',fontsize=12)"
   ]
  },
  {
   "cell_type": "markdown",
   "metadata": {},
   "source": [
    "this figure represent the relationship between popularity and geners and i summarized the 3 smallest popularity of geners ,and i found that these geners are War|Action , Adventure|science Fiction , Thriller.\n",
    "there's many reasons for why they don't have high popularity, for instance, maybe the story is boring or the director or the actors don't have high skills on their work.\n"
   ]
  },
  {
   "cell_type": "code",
   "execution_count": 23,
   "metadata": {},
   "outputs": [
    {
     "data": {
      "text/plain": [
       "<matplotlib.axes._subplots.AxesSubplot at 0x9b96d90>"
      ]
     },
     "execution_count": 23,
     "metadata": {},
     "output_type": "execute_result"
    },
    {
     "data": {
      "image/png": "[encoded data removed]",
      "text/plain": [
       "<Figure size 432x288 with 1 Axes>"
      ]
     },
     "metadata": {
      "needs_background": "light"
     },
     "output_type": "display_data"
    }
   ],
   "source": [
    "df.plot(x='popularity',y='vote_average',kind='scatter')\n"
   ]
  },
  {
   "cell_type": "markdown",
   "metadata": {},
   "source": [
    "As we can see here , the relationship seems in general as when the vote average increase the popularity fixed at zero in most cases but there is an exception as we can see in the graph sometimes when the popularity increased also the vote average increase ,but in general we can estimate that the popularity does not effect by the vote average."
   ]
  },
  {
   "cell_type": "markdown",
   "metadata": {},
   "source": [
    "<a id='conclusions'></a>\n",
    "## Conclusions"
   ]
  },
  {
   "cell_type": "markdown",
   "metadata": {},
   "source": [
    "### in Conclusion, After i analyzed the data i reached some results :\n",
    "#### -First of all, One of my Questions is who's the most first director that generate the highest revenue and the result was James Cameron who is top one reached that.\n",
    "#### -the second one defined what is the 5 movies had the highest budget and the result was: The Warrior's Way, Pirates of the Caribbean: On Stranger Tides ,Pirates of the Caribbean: At World's End, Avengers: Age of Ultron, Superman Returns.\n",
    "#### -the third one is a graph shows the 3 smallest popularity movies, and i found that these geners are War|Action , Adventure|science Fiction , Thriller. and of course there's many reasons for why the don't have high popularity, for instance, maybe the story is boring or the director or the actors don't have high skills un their work.\n",
    "#### -the last one is also a graph that shows the relationship between vote average and popularity and i noticed that the relationship seems in general as when the vote average increase the popularity fixed at zero in most cases but there is an exception as we can see in the graph sometimes when the popularity increased also the vote average increase ,but in general we can estimate that the popularity does not effect by the vote average.From this analysis we can get the basics idea about popularity so it can be affected by another features or variables."
   ]
  },
  {
   "cell_type": "markdown",
   "metadata": {},
   "source": [
    "### Limitations:\n",
    "   #### since there's about 1061 records has a null values and i drop it to make the analysis easy but one the other hand maybe this analysis is not accurate 100% , for instance, mayby there is one director has the highest revenue from the one i got in my analysis since i drop some records as i said before..\n",
    "   #### also i faced some problem when i anaylze the data graphicaly there is some values i can't use it because  maybe it contains a huge data and this make it difficult to work with.  "
   ]
  },
  {
   "cell_type": "code",
   "execution_count": null,
   "metadata": {},
   "outputs": [],
   "source": []
  }
 ],
 "metadata": {
  "kernelspec": {
   "display_name": "Python 3",
   "language": "python",
   "name": "python3"
  },
  "language_info": {
   "codemirror_mode": {
    "name": "ipython",
    "version": 3
   },
   "file_extension": ".py",
   "mimetype": "text/x-python",
   "name": "python",
   "nbconvert_exporter": "python",
   "pygments_lexer": "ipython3",
   "version": "3.7.7"
  }
 },
 "nbformat": 4,
 "nbformat_minor": 2
}
